{
 "cells": [
  {
   "cell_type": "markdown",
   "metadata": {},
   "source": [
    "13307130167 刘阳"
   ]
  },
  {
   "cell_type": "markdown",
   "metadata": {},
   "source": [
    "## Assignment 1: 正则表达式"
   ]
  },
  {
   "cell_type": "markdown",
   "metadata": {},
   "source": [
    "- [a-zA-Z]+ : 任意单词\n",
    "- [A-Z][a-z]* : 首字母大写的任意单词\n",
    "- p[aeiou]{,2}t : 以p开头，以t结尾，中间最多两个元音字母的单词\n",
    "- \\d+(\\.\\d+)? : 整数或小数\n",
    "- ([^aeiou][aeiou][^aeiou])* : 两个辅音夹一个元音，并以这种形式重复的单词（可以为空字符串）\n",
    "- \\w+|[^\\w\\s]+ : 不包含空白符的字符串"
   ]
  },
  {
   "cell_type": "markdown",
   "metadata": {},
   "source": [
    "## Assignment 2: 文件读写"
   ]
  },
  {
   "cell_type": "code",
   "execution_count": 1,
   "metadata": {},
   "outputs": [],
   "source": [
    "def write_file(f, data):\n",
    "    \"\"\"\n",
    "    type: f: File\n",
    "    type: data: List[Tuple(str, int)]\n",
    "    rtype: None\n",
    "    \"\"\"\n",
    "    with open(f, 'w+') as fi:\n",
    "        fi.writelines(['{0} {1}\\n'.format(d[0], d[1]) for d in data])"
   ]
  },
  {
   "cell_type": "code",
   "execution_count": 2,
   "metadata": {},
   "outputs": [],
   "source": [
    "def read_file(f):\n",
    "    \"\"\"\n",
    "    type: f: File\n",
    "    rtype: List[List[str, int]]\n",
    "    \"\"\"\n",
    "    with open(f) as fi:\n",
    "        lines = fi.readlines()\n",
    "    lines = map(lambda l: l.split(), lines)\n",
    "    return [[l[0], int(l[1].strip())] for l in lines]"
   ]
  },
  {
   "cell_type": "code",
   "execution_count": 3,
   "metadata": {},
   "outputs": [
    {
     "name": "stdout",
     "output_type": "stream",
     "text": [
      "[['foo', 10], ['bar', 20], ['fuzzy', 53], ['nlp', 100]]\n"
     ]
    }
   ],
   "source": [
    "# test\n",
    "data = [('foo', 10), ('bar', 20), ('fuzzy', 53), ('nlp', 100)]\n",
    "f = 'tmp.txt'\n",
    "write_file(f, data)\n",
    "print read_file(f)"
   ]
  },
  {
   "cell_type": "markdown",
   "metadata": {},
   "source": [
    "## Assignment 3: 字符串操作"
   ]
  },
  {
   "cell_type": "code",
   "execution_count": 4,
   "metadata": {},
   "outputs": [],
   "source": [
    "silly = 'newly formed bland ideas are inexpressible in an infuriating way'"
   ]
  },
  {
   "cell_type": "code",
   "execution_count": 6,
   "metadata": {},
   "outputs": [],
   "source": [
    "bland = silly.split()"
   ]
  },
  {
   "cell_type": "code",
   "execution_count": 7,
   "metadata": {},
   "outputs": [
    {
     "data": {
      "text/plain": [
       "'eoldrnnnna'"
      ]
     },
     "execution_count": 7,
     "metadata": {},
     "output_type": "execute_result"
    }
   ],
   "source": [
    "''.join([w[1] for w in bland])"
   ]
  },
  {
   "cell_type": "code",
   "execution_count": 8,
   "metadata": {},
   "outputs": [
    {
     "data": {
      "text/plain": [
       "'newly formed bland ideas are inexpressible in an infuriating way'"
      ]
     },
     "execution_count": 8,
     "metadata": {},
     "output_type": "execute_result"
    }
   ],
   "source": [
    "' '.join(bland)"
   ]
  }
 ],
 "metadata": {
  "kernelspec": {
   "display_name": "Python [cv]",
   "language": "python",
   "name": "Python [cv]"
  },
  "language_info": {
   "codemirror_mode": {
    "name": "ipython",
    "version": 2
   },
   "file_extension": ".py",
   "mimetype": "text/x-python",
   "name": "python",
   "nbconvert_exporter": "python",
   "pygments_lexer": "ipython2",
   "version": "2.7.12"
  }
 },
 "nbformat": 4,
 "nbformat_minor": 0
}
