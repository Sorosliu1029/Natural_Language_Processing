{
 "cells": [
  {
   "cell_type": "markdown",
   "metadata": {},
   "source": [
    "13307130167 刘阳"
   ]
  },
  {
   "cell_type": "code",
   "execution_count": 1,
   "metadata": {
    "collapsed": true
   },
   "outputs": [],
   "source": [
    "import nltk"
   ]
  },
  {
   "cell_type": "markdown",
   "metadata": {},
   "source": [
    "## Assignment 1: 统计'austen-emma.txt'"
   ]
  },
  {
   "cell_type": "code",
   "execution_count": 2,
   "metadata": {
    "collapsed": true
   },
   "outputs": [],
   "source": [
    "from nltk.corpus import gutenberg"
   ]
  },
  {
   "cell_type": "code",
   "execution_count": 3,
   "metadata": {
    "collapsed": true
   },
   "outputs": [],
   "source": [
    "emma = gutenberg.words('austen-emma.txt')"
   ]
  },
  {
   "cell_type": "code",
   "execution_count": 5,
   "metadata": {
    "collapsed": false
   },
   "outputs": [
    {
     "name": "stdout",
     "output_type": "stream",
     "text": [
      "Total word count: 192427\n",
      "Different word count: 7811\n"
     ]
    }
   ],
   "source": [
    "print('Total word count: {0}'.format(len(emma)))\n",
    "print('Different word count: {0}'.format(len(set(emma))))"
   ]
  },
  {
   "cell_type": "markdown",
   "metadata": {},
   "source": [
    "## Assignment 2: 输出50个最常见的Bigram"
   ]
  },
  {
   "cell_type": "code",
   "execution_count": 25,
   "metadata": {
    "collapsed": false
   },
   "outputs": [],
   "source": [
    "def most_common_bigrams(text, num=50, ignore_stopwords=True):\n",
    "    # if text is string, convert it into list\n",
    "    if isinstance(text, str):\n",
    "        text = text.split()\n",
    "\n",
    "    bigrams = nltk.bigrams(text)\n",
    "    if ignore_stopwords:\n",
    "        stop_words = nltk.corpus.stopwords.words('english')\n",
    "        # filter out any stopword\n",
    "        bigrams = filter(lambda bi: not any([w in stop_words for w in bi]), bigrams)\n",
    "    fdist = nltk.FreqDist(bigrams)\n",
    "    return fdist.most_common(num)"
   ]
  },
  {
   "cell_type": "code",
   "execution_count": 30,
   "metadata": {
    "collapsed": false
   },
   "outputs": [
    {
     "data": {
      "text/plain": [
       "[(('example', 'sentence'), 1)]"
      ]
     },
     "execution_count": 30,
     "metadata": {},
     "output_type": "execute_result"
    }
   ],
   "source": [
    "# test\n",
    "text = 'This is an example sentence'\n",
    "most_common_bigrams(text)"
   ]
  },
  {
   "cell_type": "code",
   "execution_count": 31,
   "metadata": {
    "collapsed": false
   },
   "outputs": [
    {
     "data": {
      "text/plain": [
       "[((u'Mr', u'.'), 1153),\n",
       " ((u'.\"', u'\"'), 757),\n",
       " ((u'Mrs', u'.'), 699),\n",
       " ((u'.', u'I'), 570),\n",
       " ((u',', u'I'), 568),\n",
       " ((u'.', u'Weston'), 426),\n",
       " ((u'.', u'\"'), 415),\n",
       " ((u'.', u'She'), 413),\n",
       " ((u',', u'\"'), 398),\n",
       " ((u'.', u'Elton'), 381),\n",
       " ((u'.', u'Knightley'), 305),\n",
       " ((u'\"', u'I'), 303),\n",
       " ((u'.', u'He'), 303),\n",
       " ((u'.', u'It'), 266),\n",
       " ((u'.', u'The'), 252),\n",
       " ((u',\"', u'said'), 225),\n",
       " ((u'Emma', u','), 173),\n",
       " ((u'Miss', u'Woodhouse'), 173),\n",
       " ((u'.', u'But'), 157),\n",
       " ((u'Frank', u'Churchill'), 151),\n",
       " ((u'.', u'You'), 147),\n",
       " ((u'?\"', u'\"'), 147),\n",
       " ((u'Oh', u'!'), 146),\n",
       " ((u'.', u'Woodhouse'), 135),\n",
       " ((u'.', u'Mr'), 128),\n",
       " ((u'Miss', u'Fairfax'), 125),\n",
       " ((u'I', u'shall'), 120),\n",
       " ((u'every', u'thing'), 118),\n",
       " ((u'.', u'They'), 113),\n",
       " ((u'Miss', u'Bates'), 113),\n",
       " ((u'Jane', u'Fairfax'), 111),\n",
       " ((u'Woodhouse', u','), 110),\n",
       " ((u'Weston', u','), 108),\n",
       " ((u'Harriet', u','), 107),\n",
       " ((u'I', u'think'), 107),\n",
       " ((u'\"', u'Oh'), 104),\n",
       " ((u'.', u'Emma'), 101),\n",
       " ((u'--', u'I'), 101),\n",
       " ((u',', u'however'), 101),\n",
       " ((u',', u'Emma'), 100),\n",
       " ((u',', u'Mr'), 94),\n",
       " ((u',', u'though'), 94),\n",
       " ((u'however', u','), 93),\n",
       " ((u'every', u'body'), 92),\n",
       " ((u'Harriet', u\"'\"), 91),\n",
       " ((u'.', u'And'), 90),\n",
       " ((u'\"', u'You'), 88),\n",
       " ((u'Knightley', u','), 88),\n",
       " ((u',', u'indeed'), 87),\n",
       " ((u'I', u'hope'), 86)]"
      ]
     },
     "execution_count": 31,
     "metadata": {},
     "output_type": "execute_result"
    }
   ],
   "source": [
    "# test\n",
    "most_common_bigrams(emma)"
   ]
  },
  {
   "cell_type": "markdown",
   "metadata": {},
   "source": [
    "## Assignment 3: 随机文本生成程序"
   ]
  },
  {
   "cell_type": "code",
   "execution_count": 40,
   "metadata": {
    "collapsed": false
   },
   "outputs": [],
   "source": [
    "from random import randint\n",
    "def generate_model(cfdist, word, num=15):\n",
    "    rand_sentence = []\n",
    "    for i in range(num):\n",
    "        rand_sentence.append(word)\n",
    "        all_items = cfdist[word].items()\n",
    "        # pick a random word depend on its frequence weight\n",
    "        s = sum(cfdist[word].values())\n",
    "        r = randint(1, s)\n",
    "        item_idx = 0\n",
    "        range_l, range_r = 1, all_items[item_idx][1]\n",
    "        while not range_l <= r <= range_r:\n",
    "            item_idx += 1\n",
    "            range_l = range_r\n",
    "            range_r += all_items[item_idx][1]\n",
    "        word = all_items[item_idx][0]\n",
    "    return ' '.join(rand_sentence)"
   ]
  },
  {
   "cell_type": "code",
   "execution_count": 42,
   "metadata": {
    "collapsed": false
   },
   "outputs": [],
   "source": [
    "text = nltk.corpus.genesis.words('english-kjv.txt')\n",
    "bigrams = nltk.bigrams(text)\n",
    "cfd = nltk.ConditionalFreqDist(bigrams)"
   ]
  },
  {
   "cell_type": "code",
   "execution_count": 48,
   "metadata": {
    "collapsed": true
   },
   "outputs": [],
   "source": [
    "test_begin_words = ['living', 'power', 'evil', 'people']"
   ]
  },
  {
   "cell_type": "code",
   "execution_count": 50,
   "metadata": {
    "collapsed": false
   },
   "outputs": [
    {
     "name": "stdout",
     "output_type": "stream",
     "text": [
      "Test on living\n",
      ">>>>>>>>>>\n",
      "Test No.0\n",
      "living creature that , every man , and for twenty years , and he said\n",
      "Test No.1\n",
      "living creature that followed the garden ; and the bread , that same is that\n",
      "Test No.2\n",
      "living thing that the captain of the sons of Goshen . And Isaac his son\n",
      "Test No.3\n",
      "living creature that time to number . And the tent , and it was the\n",
      "Test No.4\n",
      "living creature of salt sea ; and he die : Yet within his sister ,\n",
      "----------------------------------------------------------------------\n",
      "Test on power\n",
      ">>>>>>>>>>\n",
      "Test No.0\n",
      "power with him yet far off , and Isaac , I be known that Jacob\n",
      "Test No.1\n",
      "power with violence through the children of the light , Let my charge , when\n",
      "Test No.2\n",
      "power of He is in Machpelah , the second son Isaac his father , Rebekah\n",
      "Test No.3\n",
      "power of Canaan , that went upon the hands . And Abraham ; And Joseph\n",
      "Test No.4\n",
      "power of the house . And Jacob answered Abraham called every beast , and he\n",
      "----------------------------------------------------------------------\n",
      "Test on evil\n",
      ">>>>>>>>>>\n",
      "Test No.0\n",
      "evil report . And the LORD commanded the earth divided the valley of his name\n",
      "Test No.1\n",
      "evil . And they should be clear from thence ; and watered the mountains seen\n",
      "Test No.2\n",
      "evil , Joseph , and Mamre , The water the chief butler and they returned\n",
      "Test No.3\n",
      "evil continually : and went out unto Joseph understood them . He is a wife\n",
      "Test No.4\n",
      "evil report . And God appeared unto the lord of Abraham said in the LORD\n",
      "----------------------------------------------------------------------\n",
      "Test on people\n",
      ">>>>>>>>>>\n",
      "Test No.0\n",
      "people , and Admah , that our father blessed Rebekah heard the beginning . And\n",
      "Test No.1\n",
      "people , and watered the third day , and my children , and of the\n",
      "Test No.2\n",
      "people might dwell with thee , saith thy hire before Egypt for her before whom\n",
      "Test No.3\n",
      "people be known h and thirty years , and he told them these are come\n",
      "Test No.4\n",
      "people of Simeon and that came to wife , and they made themselves ? And\n",
      "----------------------------------------------------------------------\n"
     ]
    }
   ],
   "source": [
    "for begin_word in test_begin_words:\n",
    "    print('Test on {0}'.format(begin_word))\n",
    "    print('>' * 10)\n",
    "    for i in range(5):\n",
    "        print('Test No.{0}'.format(i))\n",
    "        print(generate_model(cfd, begin_word))\n",
    "    print('-' * 70)"
   ]
  },
  {
   "cell_type": "markdown",
   "metadata": {},
   "source": [
    "### 文本可理解性：\n",
    "从测试的几个词和相应的随机产生的句子来看，语法结构大多没有什么问题。但是语义并不好理解，感觉像是很生硬的机器翻译的句子。"
   ]
  },
  {
   "cell_type": "markdown",
   "metadata": {},
   "source": [
    "### 此方法的长处和短处：\n",
    "#### 长处：\n",
    "- 只需进行简单的文本统计，速度很快\n",
    "- 随机选择基于词的频率，随机性较好\n",
    "- 生成随机文本的过程直观，易于理解\n",
    "\n",
    "#### 短处：\n",
    "- 文本模型仅限于当前所统计的文本，产生的句子容易受该文本风格的影响\n",
    "- 随机选择的候选词有限，容易生成局部重复的片段（即使已经是基于频率的随机选择）\n",
    "- 文本的可理解性较差"
   ]
  },
  {
   "cell_type": "code",
   "execution_count": null,
   "metadata": {
    "collapsed": true
   },
   "outputs": [],
   "source": []
  }
 ],
 "metadata": {
  "anaconda-cloud": {},
  "kernelspec": {
   "display_name": "Python [Root]",
   "language": "python",
   "name": "Python [Root]"
  },
  "language_info": {
   "codemirror_mode": {
    "name": "ipython",
    "version": 2
   },
   "file_extension": ".py",
   "mimetype": "text/x-python",
   "name": "python",
   "nbconvert_exporter": "python",
   "pygments_lexer": "ipython2",
   "version": "2.7.12"
  }
 },
 "nbformat": 4,
 "nbformat_minor": 0
}
