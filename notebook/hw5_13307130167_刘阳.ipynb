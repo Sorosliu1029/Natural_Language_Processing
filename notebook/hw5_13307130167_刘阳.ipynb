{
 "cells": [
  {
   "cell_type": "markdown",
   "metadata": {},
   "source": [
    "13307130167 刘阳"
   ]
  },
  {
   "cell_type": "code",
   "execution_count": 1,
   "metadata": {
    "collapsed": true
   },
   "outputs": [],
   "source": [
    "import nltk"
   ]
  },
  {
   "cell_type": "markdown",
   "metadata": {},
   "source": [
    "### Assignment 1: 名字性别分类器"
   ]
  },
  {
   "cell_type": "code",
   "execution_count": 3,
   "metadata": {
    "collapsed": true
   },
   "outputs": [],
   "source": [
    "from nltk.corpus import names\n",
    "labeled_names = [(name, 'male') for name in names.words('male.txt')] + \\\n",
    "                [(name, 'female') for name in names.words('female.txt')]\n",
    "import random\n",
    "random.shuffle(labeled_names)"
   ]
  },
  {
   "cell_type": "code",
   "execution_count": 4,
   "metadata": {
    "collapsed": true
   },
   "outputs": [],
   "source": [
    "train_names = labeled_names[800:]\n",
    "devtest_names = labeled_names[400:800]\n",
    "test_names = labeled_names[:400]"
   ]
  },
  {
   "cell_type": "code",
   "execution_count": 5,
   "metadata": {
    "collapsed": true
   },
   "outputs": [],
   "source": [
    "def gender_features(name):\n",
    "    return {'suffix1': name[-1:], 'suffix2': name[-2:]}"
   ]
  },
  {
   "cell_type": "code",
   "execution_count": 21,
   "metadata": {
    "collapsed": true
   },
   "outputs": [],
   "source": [
    "def evaluate_feature_function(feature_func, train_names, devtest_names):\n",
    "    train_set = [(feature_func(n), g) for (n, g) in train_names]\n",
    "    devtest_set = [(feature_func(n), g) for (n, g) in devtest_names]\n",
    "    classifier = nltk.NaiveBayesClassifier.train(train_set)\n",
    "    accuracy = nltk.classify.accuracy(classifier, devtest_set)\n",
    "    return accuracy"
   ]
  },
  {
   "cell_type": "code",
   "execution_count": 22,
   "metadata": {
    "collapsed": false
   },
   "outputs": [
    {
     "name": "stdout",
     "output_type": "stream",
     "text": [
      "0.78\n"
     ]
    }
   ],
   "source": [
    "print evaluate_feature_function(gender_features, train_names, devtest_names)"
   ]
  },
  {
   "cell_type": "markdown",
   "metadata": {},
   "source": [
    "#### add more \\*fix features"
   ]
  },
  {
   "cell_type": "code",
   "execution_count": 23,
   "metadata": {
    "collapsed": true
   },
   "outputs": [],
   "source": [
    "def gender_features_v1(name):\n",
    "    return {\n",
    "        'prefix1': name[:1],\n",
    "        'prefix2': name[:2],\n",
    "        'suffix1': name[-1:],\n",
    "        'suffix2': name[-2:]\n",
    "    }"
   ]
  },
  {
   "cell_type": "code",
   "execution_count": 24,
   "metadata": {
    "collapsed": false
   },
   "outputs": [
    {
     "name": "stdout",
     "output_type": "stream",
     "text": [
      "0.7925\n"
     ]
    }
   ],
   "source": [
    "print evaluate_feature_function(gender_features_v1, train_names, devtest_names)"
   ]
  },
  {
   "cell_type": "markdown",
   "metadata": {},
   "source": [
    "#### add '\\*son' feature"
   ]
  },
  {
   "cell_type": "code",
   "execution_count": 35,
   "metadata": {
    "collapsed": false
   },
   "outputs": [],
   "source": [
    "def gender_features_v2(name):\n",
    "    result = gender_features_v1(name)\n",
    "    result['contains\"son\"'] = name.lower().find('son') != -1\n",
    "    return result"
   ]
  },
  {
   "cell_type": "code",
   "execution_count": 36,
   "metadata": {
    "collapsed": false
   },
   "outputs": [
    {
     "name": "stdout",
     "output_type": "stream",
     "text": [
      "0.7925\n"
     ]
    }
   ],
   "source": [
    "print evaluate_feature_function(gender_features_v2, train_names, devtest_names)"
   ]
  },
  {
   "cell_type": "markdown",
   "metadata": {},
   "source": [
    "#### add bag of chars feature"
   ]
  },
  {
   "cell_type": "code",
   "execution_count": 37,
   "metadata": {
    "collapsed": true
   },
   "outputs": [],
   "source": [
    "def gender_features_v3(name):\n",
    "    return dict([(c, True) for c in name])"
   ]
  },
  {
   "cell_type": "code",
   "execution_count": 38,
   "metadata": {
    "collapsed": false
   },
   "outputs": [
    {
     "name": "stdout",
     "output_type": "stream",
     "text": [
      "0.7225\n"
     ]
    }
   ],
   "source": [
    "print evaluate_feature_function(gender_features_v3, train_names, devtest_names)"
   ]
  },
  {
   "cell_type": "markdown",
   "metadata": {},
   "source": [
    "#### add bag of nchars feature"
   ]
  },
  {
   "cell_type": "code",
   "execution_count": 39,
   "metadata": {
    "collapsed": true
   },
   "outputs": [],
   "source": [
    "def gender_features_v4(name, n=2):\n",
    "    ncs = [name[i:i+2] for i in range(len(name)-1)]\n",
    "    return gender_features_v3(ncs)"
   ]
  },
  {
   "cell_type": "code",
   "execution_count": 40,
   "metadata": {
    "collapsed": false
   },
   "outputs": [
    {
     "name": "stdout",
     "output_type": "stream",
     "text": [
      "0.725\n"
     ]
    }
   ],
   "source": [
    "print evaluate_feature_function(gender_features_v4, train_names, devtest_names)"
   ]
  },
  {
   "cell_type": "markdown",
   "metadata": {},
   "source": [
    "#### mix above ways"
   ]
  },
  {
   "cell_type": "code",
   "execution_count": 41,
   "metadata": {
    "collapsed": true
   },
   "outputs": [],
   "source": [
    "def gender_features_v5(name):\n",
    "    result = dict()\n",
    "    result.update(gender_features_v2(name))\n",
    "    result.update(gender_features_v3(name))\n",
    "    result.update(gender_features_v4(name))\n",
    "    return result"
   ]
  },
  {
   "cell_type": "code",
   "execution_count": 42,
   "metadata": {
    "collapsed": false
   },
   "outputs": [
    {
     "name": "stdout",
     "output_type": "stream",
     "text": [
      "0.805\n"
     ]
    }
   ],
   "source": [
    "print evaluate_feature_function(gender_features_v5, train_names, devtest_names)"
   ]
  },
  {
   "cell_type": "markdown",
   "metadata": {},
   "source": [
    "#### test verson 5 function on test data set"
   ]
  },
  {
   "cell_type": "code",
   "execution_count": 43,
   "metadata": {
    "collapsed": false
   },
   "outputs": [
    {
     "name": "stdout",
     "output_type": "stream",
     "text": [
      "0.81\n"
     ]
    }
   ],
   "source": [
    "train_set = [(gender_features_v5(n), g) for (n, g) in train_names]\n",
    "test_set = [(gender_features_v5(n), g) for (n, g) in test_names]\n",
    "classifier = nltk.NaiveBayesClassifier.train(train_set)\n",
    "accuracy = nltk.classify.accuracy(classifier, test_set)\n",
    "print accuracy"
   ]
  },
  {
   "cell_type": "markdown",
   "metadata": {},
   "source": [
    "在测试集上的性能（0.81）比在开发集上的性能（0.805）要好"
   ]
  },
  {
   "cell_type": "markdown",
   "metadata": {},
   "source": [
    "### Assignment: 特定特征信息量解读"
   ]
  },
  {
   "cell_type": "markdown",
   "metadata": {},
   "source": [
    "最有信息量的特征：\n",
    "- '==True and label is 'neg'\n",
    "- also==True and label is 'neg'\n",
    "- looks==True and label is 'neg'\n",
    "- ('by', 'a')==True and label is 'neg'\n",
    "- waste==True and label is 'neg'\n",
    "- for==True and label is 'neg'\n",
    "- makes==True and label is 'neg'\n",
    "- have==True and label is 'neg'\n",
    "- ('plot', ',')==True and label is 'neg'\n",
    "- ,==True and label is 'neg'"
   ]
  },
  {
   "cell_type": "markdown",
   "metadata": {},
   "source": [
    "从上述特征量列表中可以看出：\n",
    "- 'looks' 这样的词一般表示轻微转折的语气，所以更多出现在负面评价中\n",
    "- 'waste' 显然是在讲'waste time', 'waste money',这样的评价是很负面的评价\n",
    "- 'plot' 讲故事情节，也会和电影评价有关"
   ]
  }
 ],
 "metadata": {
  "kernelspec": {
   "display_name": "Python [Root]",
   "language": "python",
   "name": "Python [Root]"
  },
  "language_info": {
   "codemirror_mode": {
    "name": "ipython",
    "version": 2
   },
   "file_extension": ".py",
   "mimetype": "text/x-python",
   "name": "python",
   "nbconvert_exporter": "python",
   "pygments_lexer": "ipython2",
   "version": "2.7.12"
  }
 },
 "nbformat": 4,
 "nbformat_minor": 0
}
